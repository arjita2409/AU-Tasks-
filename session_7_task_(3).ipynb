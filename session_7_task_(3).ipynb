{
  "nbformat": 4,
  "nbformat_minor": 0,
  "metadata": {
    "colab": {
      "provenance": []
    },
    "kernelspec": {
      "name": "python3",
      "display_name": "Python 3"
    },
    "language_info": {
      "name": "python"
    }
  },
  "cells": [
    {
      "cell_type": "markdown",
      "source": [
        "##`Q-1:` Rectangle Class\n",
        "1. Write a Rectangle class in Python language, allowing you to build a rectangle with length and width attributes.\n",
        "\n",
        "2. Create a Perimeter() method to calculate the perimeter of the rectangle and a Area() method to calculate the area of ​​the rectangle.\n",
        "\n",
        "3. Create a method display() that display the length, width, perimeter and area of an object created using an instantiation on rectangle class."
      ],
      "metadata": {
        "id": "FyUJ3PRAsPr4"
      }
    },
    {
      "cell_type": "markdown",
      "source": [
        "Eg.\n",
        "After making above classes and methods, on executing below code:-\n",
        "```\n",
        "my_rectangle = Rectangle(3 , 4)\n",
        "my_rectangle.display()\n",
        "```\n",
        "\n",
        "`Output:`\n",
        "```\n",
        "The length of rectangle is:  3\n",
        "The width of rectangle is:  4\n",
        "The perimeter of rectangle is:  14\n",
        "The area of rectangle is:  12\n",
        "```\n"
      ],
      "metadata": {
        "id": "GxUtOqJfssFK"
      }
    },
    {
      "cell_type": "code",
      "source": [
        "class Rectangle():\n",
        "  def __init__(self ,length , width):\n",
        "    self.length=length\n",
        "    self.width=width\n",
        "  def perimeter(self):\n",
        "    self.peri=2*(self.length + self.width)\n",
        "\n",
        "  def area(self):\n",
        "    self.ar=self.length*self.width\n",
        "\n",
        "  def display(self):\n",
        "    self.perimeter()\n",
        "    print(f\"parameter is {self.peri}\")\n",
        "    self.area()\n",
        "    print(f\"the area is { self.ar}\")\n",
        "    print(f\"The length of rectangle is: {self.length}\")\n",
        "    print(f\"The width of rectangle is: {self.width}\")\n",
        "\n",
        "rec=Rectangle(6,9)\n",
        "rec.display()\n"
      ],
      "metadata": {
        "id": "92_QT-Uj6NBg",
        "colab": {
          "base_uri": "https://localhost:8080/"
        },
        "outputId": "d81393ba-5a64-41e0-9908-ae9b71ad6a23"
      },
      "execution_count": null,
      "outputs": [
        {
          "output_type": "stream",
          "name": "stdout",
          "text": [
            "parameter is 30\n",
            "the area is 54\n",
            "The length of rectangle is: 6\n",
            "The width of rectangle is: 9\n"
          ]
        }
      ]
    },
    {
      "cell_type": "markdown",
      "source": [
        "##`Q-2: Bank Class`\n",
        "\n",
        "1. Create a Python class called `BankAccount` which represents a bank account, having as attributes: `accountNumber` (numeric type), `name` (name of the account owner as string type), `balance`.\n",
        "2. Create a constructor with parameters: `accountNumber, name, balance`.\n",
        "3. Create a `Deposit()` method which manages the deposit actions.\n",
        "4. Create a `Withdrawal()` method  which manages withdrawals actions.\n",
        "5. Create an `bankFees()` method to apply the bank fees with a percentage of 5% of the balance account.\n",
        "6. Create a `display()` method to display account details.\n",
        "Give the complete code for the  BankAccount class."
      ],
      "metadata": {
        "id": "r_GxrS0Vrdom"
      }
    },
    {
      "cell_type": "markdown",
      "source": [
        "Eg.\n",
        "After making above classes and methods, on executing below code:-\n",
        "```\n",
        "newAccount = BankAccount(2178514584, \"Mandy\" , 2800)\n",
        "\n",
        "newAccount.Withdrawal(700)\n",
        "\n",
        "newAccount.Deposit(1000)\n",
        "\n",
        "newAccount.display()\n",
        "```\n",
        "\n",
        "`Output:`\n",
        "```\n",
        "Account Number :  2178514584\n",
        "Account Name :  Mandy\n",
        "Account Balance :  3100 ₹\n",
        "```"
      ],
      "metadata": {
        "id": "qvVkOUJgvTV_"
      }
    },
    {
      "cell_type": "code",
      "source": [
        "class Bankaccount():\n",
        "  def __init__(self,accno,name,balance):\n",
        "    self.accno=accno\n",
        "    self.name=name\n",
        "    self.balance=balance\n",
        "  def deposit(self , depo):\n",
        "\n",
        "    self.balance+=depo\n",
        "  def withdrawl(self , w):\n",
        "    self.balance-=w\n",
        "  def display(self):\n",
        "    print(f\" Account number : {self.accno} \\n Account name : {self.name} \\n Account Balance : {self.balance}\")\n",
        "\n",
        "bank=Bankaccount(4567,\"anja\",6000)\n",
        "bank.deposit(6000)\n",
        "bank.withdrawl(2000)\n",
        "bank.display()"
      ],
      "metadata": {
        "id": "fUQOmQyA6YDR",
        "colab": {
          "base_uri": "https://localhost:8080/"
        },
        "outputId": "19610f80-4219-4a81-85d4-79c775b87f02"
      },
      "execution_count": null,
      "outputs": [
        {
          "output_type": "stream",
          "name": "stdout",
          "text": [
            " Account number : 4567 \n",
            " Account name : anja \n",
            " Account Balance : 10000\n"
          ]
        }
      ]
    },
    {
      "cell_type": "markdown",
      "source": [
        "##`Q-3:Computation class`\n",
        "\n",
        "1. Create a `Computation` class with a default constructor (without parameters) allowing to perform various calculations on integers numbers.\n",
        "2. Create a method called `Factorial()` which allows to calculate the factorial of an integer n. Integer n as parameter for this method\n",
        "\n",
        "3. Create a method called `naturalSum()` allowing to calculate the sum of the first n integers 1 + 2 + 3 + .. + n. Integer n as parameter for this method.\n",
        "\n",
        "4. Create a method called `testPrime()` in  the Calculation class to test the primality of a given integer n, n is Prime or Not? Integer n as parameter for this method.\n",
        "\n",
        "5. Create  a method called `testPrims()` allowing to test if two numbers are prime between them. Two integers are prime to one another if they have only `1` as their common divisor. Eg. 4 and 9 are prime to each other.\n",
        "\n",
        "5. Create a `tableMult()` method which creates and displays the multiplication table of a given integer. Then create an `allTablesMult()` method to display all the integer multiplication tables 1, 2, 3, ..., 9.\n",
        "\n",
        "6. Create a static `listDiv()` method that gets all the divisors of a given integer on new list called  Ldiv. Create another `listDivPrim()` method that gets all the prime divisors of a given integer."
      ],
      "metadata": {
        "id": "QovcQAZTrgGU"
      }
    },
    {
      "cell_type": "code",
      "source": [
        "import math\n",
        "\n",
        "class Computation():\n",
        "    def factorial(self, n):\n",
        "        self.fact = 1\n",
        "        for i in range(1, n + 1):\n",
        "            self.fact *= i\n",
        "        print(f\"Factorial of {n} is {self.fact}\")\n",
        "\n",
        "    def naturalSum(self, n):\n",
        "        self.sum = 0\n",
        "        for i in range(n + 1):\n",
        "            self.sum += i\n",
        "        print(f\"Sum of first {n} numbers is {self.sum}\")\n",
        "\n",
        "    def testPrime(self, n):\n",
        "        if n < 2:\n",
        "            print(f\"{n} is not a prime number\")\n",
        "            return False\n",
        "        for i in range(2, int(n ** 0.5) + 1):\n",
        "            if n % i == 0:\n",
        "                print(f\"{n} is not a prime number\")\n",
        "                return False\n",
        "        print(f\"{n} is a prime number\")\n",
        "        return True\n",
        "\n",
        "    def testprims(self, n, m):\n",
        "        if math.gcd(n, m) == 1:\n",
        "            print(f\"{n} and {m} are coprime numbers\")\n",
        "        else:\n",
        "            print(f\"{n} and {m} are not coprime numbers\")\n",
        "\n",
        "    def tablemult(self, n):\n",
        "        for i in range(1, 11):\n",
        "            print(f\"{n} x {i} = {n * i}\")\n",
        "\n",
        "    def alltablemult(self):\n",
        "        for i in range(1, 10):\n",
        "            self.tablemult(i)\n",
        "\n",
        "    def listDiv(self, n):\n",
        "        list1 = []\n",
        "        for i in range(1, n + 1):\n",
        "            if n % i == 0:\n",
        "                list1.append(i)\n",
        "        return list1\n",
        "\n",
        "    def listdivprim(self, n):\n",
        "\n",
        "      list2 = []\n",
        "      list1 = self.listDiv(n)\n",
        "      for i in list1:\n",
        "          if i > 1:\n",
        "              for j in range(2, int(i ** 0.5) + 1):\n",
        "                  if i % j == 0:\n",
        "                     break\n",
        "              else:\n",
        "                  list2.append(i)\n",
        "      print(f\"Prime factors of {n} are: {list2}\")\n",
        "\n",
        "\n",
        "\n",
        "com = Computation()\n",
        "com.factorial(5)\n",
        "com.naturalSum(3)\n",
        "com.testPrime(3)\n",
        "com.testprims(4, 6)\n",
        "com.tablemult(4)\n",
        "com.alltablemult()\n",
        "print(\"Divisors of 12:\", com.listDiv(12))\n",
        "com.listdivprim(12)  # Prime factors of 12: [2, 3]\n"
      ],
      "metadata": {
        "id": "YEkPH70l6Z-o",
        "colab": {
          "base_uri": "https://localhost:8080/"
        },
        "outputId": "69fe91d9-0794-47f8-b5e0-56fa0e81376d"
      },
      "execution_count": null,
      "outputs": [
        {
          "output_type": "stream",
          "name": "stdout",
          "text": [
            "Factorial of 5 is 120\n",
            "Sum of first 3 numbers is 6\n",
            "3 is a prime number\n",
            "4 and 6 are not coprime numbers\n",
            "4 x 1 = 4\n",
            "4 x 2 = 8\n",
            "4 x 3 = 12\n",
            "4 x 4 = 16\n",
            "4 x 5 = 20\n",
            "4 x 6 = 24\n",
            "4 x 7 = 28\n",
            "4 x 8 = 32\n",
            "4 x 9 = 36\n",
            "4 x 10 = 40\n",
            "1 x 1 = 1\n",
            "1 x 2 = 2\n",
            "1 x 3 = 3\n",
            "1 x 4 = 4\n",
            "1 x 5 = 5\n",
            "1 x 6 = 6\n",
            "1 x 7 = 7\n",
            "1 x 8 = 8\n",
            "1 x 9 = 9\n",
            "1 x 10 = 10\n",
            "2 x 1 = 2\n",
            "2 x 2 = 4\n",
            "2 x 3 = 6\n",
            "2 x 4 = 8\n",
            "2 x 5 = 10\n",
            "2 x 6 = 12\n",
            "2 x 7 = 14\n",
            "2 x 8 = 16\n",
            "2 x 9 = 18\n",
            "2 x 10 = 20\n",
            "3 x 1 = 3\n",
            "3 x 2 = 6\n",
            "3 x 3 = 9\n",
            "3 x 4 = 12\n",
            "3 x 5 = 15\n",
            "3 x 6 = 18\n",
            "3 x 7 = 21\n",
            "3 x 8 = 24\n",
            "3 x 9 = 27\n",
            "3 x 10 = 30\n",
            "4 x 1 = 4\n",
            "4 x 2 = 8\n",
            "4 x 3 = 12\n",
            "4 x 4 = 16\n",
            "4 x 5 = 20\n",
            "4 x 6 = 24\n",
            "4 x 7 = 28\n",
            "4 x 8 = 32\n",
            "4 x 9 = 36\n",
            "4 x 10 = 40\n",
            "5 x 1 = 5\n",
            "5 x 2 = 10\n",
            "5 x 3 = 15\n",
            "5 x 4 = 20\n",
            "5 x 5 = 25\n",
            "5 x 6 = 30\n",
            "5 x 7 = 35\n",
            "5 x 8 = 40\n",
            "5 x 9 = 45\n",
            "5 x 10 = 50\n",
            "6 x 1 = 6\n",
            "6 x 2 = 12\n",
            "6 x 3 = 18\n",
            "6 x 4 = 24\n",
            "6 x 5 = 30\n",
            "6 x 6 = 36\n",
            "6 x 7 = 42\n",
            "6 x 8 = 48\n",
            "6 x 9 = 54\n",
            "6 x 10 = 60\n",
            "7 x 1 = 7\n",
            "7 x 2 = 14\n",
            "7 x 3 = 21\n",
            "7 x 4 = 28\n",
            "7 x 5 = 35\n",
            "7 x 6 = 42\n",
            "7 x 7 = 49\n",
            "7 x 8 = 56\n",
            "7 x 9 = 63\n",
            "7 x 10 = 70\n",
            "8 x 1 = 8\n",
            "8 x 2 = 16\n",
            "8 x 3 = 24\n",
            "8 x 4 = 32\n",
            "8 x 5 = 40\n",
            "8 x 6 = 48\n",
            "8 x 7 = 56\n",
            "8 x 8 = 64\n",
            "8 x 9 = 72\n",
            "8 x 10 = 80\n",
            "9 x 1 = 9\n",
            "9 x 2 = 18\n",
            "9 x 3 = 27\n",
            "9 x 4 = 36\n",
            "9 x 5 = 45\n",
            "9 x 6 = 54\n",
            "9 x 7 = 63\n",
            "9 x 8 = 72\n",
            "9 x 9 = 81\n",
            "9 x 10 = 90\n",
            "Divisors of 12: [1, 2, 3, 4, 6, 12]\n",
            "Prime factors of 12 are: [2, 3]\n"
          ]
        }
      ]
    },
    {
      "cell_type": "markdown",
      "source": [
        "##`Q-4`: Build flashcard using class in Python.\n",
        "\n",
        "Build a flashcard using class in python. A flashcard is a card having information on both sides, which can be used as an aid in memoization. Flashcards usually have a question on one side and an answer on the other.\n",
        "\n",
        "**Example 1:**\n",
        "\n",
        "Approach:\n",
        "\n",
        "- Create a class named FlashCard.\n",
        "- Initialize dictionary fruits using __init__() method. Here you have to define fruit name as key and it's color as value. E.g., {\"Banana\": \"yellow\", \"Strawberries\": \"pink\"}\n",
        "- Now randomly choose a pair from fruits by using _random_ module and store the key in variable _fruit_ and _value_ in variable color.\n",
        "- Now prompt the user to answer the color of the randomly chosen fruit.\n",
        "- If correct print correct else print wrong.\n",
        "\n",
        "Output:\n",
        "```bash\n",
        "welcome to fruit quiz\n",
        "What is the color of Strawberries\n",
        "pink\n",
        "Correct answer\n",
        "Enter 0, if you want to play again: 0\n",
        "What is the color of watermelon\n",
        "green\n",
        "Correct answer\n",
        "Enter 0, if you want to play again: 1\n",
        "```"
      ],
      "metadata": {
        "id": "0yn23_oEriXa"
      }
    },
    {
      "cell_type": "code",
      "source": [
        "import random\n",
        "class Flashcard():\n",
        "  def __init__(self):\n",
        "    self.fruits={\"Banana\":\"yellow\" , \"lichi\":\"red\" , \"strawberries\" :\"pink\" ,\"guava\" :\"green\",\"apple\":\"red\"  }\n",
        "  def choosing(self):\n",
        "    self.fruit , self.colour = random.choice(list(self.fruits.items()))\n",
        "\n",
        "\n",
        "  def game(self):\n",
        "      self.choosing()\n",
        "      user=input(f\"what is the colour of {self.fruit} ? \")\n",
        "      if user==self.colour:\n",
        "        print(\"Correct answer\")\n",
        "        print(\"enter 0 to play again\")\n",
        "        user2=int(input())\n",
        "        if user2==0 :\n",
        "          self.game()\n",
        "      else:\n",
        "        print(\"wrong\")\n",
        "\n",
        "\n",
        "\n",
        "\n",
        "game=Flashcard()\n",
        "game.game()\n"
      ],
      "metadata": {
        "id": "vCrUF6VU6l6w",
        "colab": {
          "base_uri": "https://localhost:8080/"
        },
        "outputId": "df334789-1cd1-46bb-bbdf-6bb4ae8f10fd"
      },
      "execution_count": null,
      "outputs": [
        {
          "output_type": "stream",
          "name": "stdout",
          "text": [
            "what is the colour of apple ? red\n",
            "Correct answer\n",
            "enter 0 to play again\n",
            "0\n",
            "what is the colour of guava ? green\n",
            "Correct answer\n",
            "enter 0 to play again\n",
            "0\n",
            "what is the colour of strawberries ? black\n",
            "wrong\n"
          ]
        }
      ]
    },
    {
      "cell_type": "markdown",
      "source": [
        "## `Q-5:` Problem 5 based on OOP Python.\n",
        "\n",
        "TechWorld, a technology training center, wants to allocate courses for instructors. An instructor is identified by name, technology skills, experience and average feedback. An instructor is allocated a course, if he/she satisfies the below two conditions:\n",
        "- eligibility criteria:\n",
        "    - if experience is more than 3 years, average feedback should be 4.5 or more\n",
        "    - if experience is 3 years or less, average feedback should be 4 or more\n",
        "- he/she should posses the technology skill for the course\n",
        "\n",
        "Identify the class name and attributes to represent instructors. Write a Python program to implement the class chosen with its attributes and methods.\n",
        "\n",
        "**Note:**\n",
        "- Consider all instance variables to be private and methods to be public.\n",
        "- An instructor may have multiple technology skills, so consider instance variable, technology_skill to be a list.\n",
        "- *check_eligibility()*: Return true if eligibility criteria is satisfied by the instructor. Else, return false\n",
        "- *allocate_course(technology)*: Return true if the course which requires the given technology can be allocated to the instructor. Else, return false.\n",
        "\n",
        "Represent a few objects of the class, initialize instance variables using setter methods, invoke\n",
        "appropriate methods and test your program."
      ],
      "metadata": {
        "id": "GN2r0jbRewYr"
      }
    },
    {
      "cell_type": "code",
      "source": [
        "class Techworld:\n",
        "    def __init__(self):\n",
        "        self.__name = \"\"\n",
        "        self.__skill = []\n",
        "        self.__experience = 0\n",
        "        self.__avgfeedback = 0.0\n",
        "\n",
        "\n",
        "    def set_name(self, name):\n",
        "        self.__name = name\n",
        "\n",
        "    def set_skill(self, skill):\n",
        "        self.__skill=skill\n",
        "\n",
        "    def set_experience(self, experience):\n",
        "        self.__experience = experience\n",
        "\n",
        "    def set_avgfeedback(self, avgfeedback):\n",
        "        self.__avgfeedback = avgfeedback\n",
        "\n",
        "    def eligibility(self):\n",
        "        skillset = [\"python\", \"java\", \"c\", \"c++\", \"r\", \"php\", \"html\", \"css\"]\n",
        "        if ((self.__experience > 3 and self.__avgfeedback >= 4.5) or\n",
        "            (self.__experience <= 3 and self.__avgfeedback >= 4)):\n",
        "            for skill in self.__skill:\n",
        "                if skill in skillset:\n",
        "                    return True\n",
        "        return False\n",
        "\n",
        "    def allocation(self):\n",
        "        if self.eligibility():\n",
        "            print(f\"The course is being allocated to {self.__name}\")\n",
        "            return True\n",
        "        else:\n",
        "            print(f\"{self.__name} is not eligible for course allocation.\")\n",
        "            return False\n",
        "say = Techworld()\n",
        "say.set_name(\"Anja\")\n",
        "say.set_skill([\"python\"])\n",
        "say.set_experience(5)\n",
        "say.set_avgfeedback(4.7)\n",
        "say.allocation()\n"
      ],
      "metadata": {
        "id": "pdMFuVFnlvKL",
        "colab": {
          "base_uri": "https://localhost:8080/"
        },
        "outputId": "b2a64761-64bb-47ee-e5d2-1c86dbea72b7"
      },
      "execution_count": null,
      "outputs": [
        {
          "output_type": "stream",
          "name": "stdout",
          "text": [
            "The course is being allocated to Anja\n"
          ]
        },
        {
          "output_type": "execute_result",
          "data": {
            "text/plain": [
              "True"
            ]
          },
          "metadata": {},
          "execution_count": 24
        }
      ]
    },
    {
      "cell_type": "code",
      "source": [],
      "metadata": {
        "id": "dj7eECavgR6k"
      },
      "execution_count": null,
      "outputs": []
    }
  ]
}